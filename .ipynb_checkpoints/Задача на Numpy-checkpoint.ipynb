{
 "cells": [
  {
   "cell_type": "markdown",
   "metadata": {},
   "source": [
    "Входные данные\n",
    "\n",
    "8 5\n",
    "\n",
    "5\n",
    "\n",
    "3 3 4\n",
    "\n",
    "3 4 3\n",
    "\n",
    "1 1 2\n",
    "\n",
    "3 4 3\n",
    "\n",
    "3 5 4"
   ]
  },
  {
   "cell_type": "code",
   "execution_count": 1,
   "metadata": {},
   "outputs": [],
   "source": [
    "import numpy as np"
   ]
  },
  {
   "cell_type": "code",
   "execution_count": 2,
   "metadata": {},
   "outputs": [],
   "source": [
    "def get_matrix(n, m, w):\n",
    "    res = np.empty([n, m])\n",
    "    res.fill(w)\n",
    "    return res"
   ]
  },
  {
   "cell_type": "code",
   "execution_count": 3,
   "metadata": {},
   "outputs": [
    {
     "name": "stdout",
     "output_type": "stream",
     "text": [
      "8 5\n",
      "5\n",
      "3 3 4\n",
      "3 4 3\n",
      "1 1 2\n",
      "3 4 3\n",
      "3 5 4\n"
     ]
    },
    {
     "data": {
      "text/plain": [
       "(array([[0., 0., 0., 0., 0.],\n",
       "        [0., 0., 0., 0., 0.],\n",
       "        [0., 0., 0., 0., 0.],\n",
       "        [0., 0., 0., 0., 0.],\n",
       "        [0., 0., 0., 0., 0.],\n",
       "        [0., 0., 0., 0., 0.],\n",
       "        [0., 0., 0., 0., 0.],\n",
       "        [0., 0., 0., 0., 0.]]),\n",
       " [array([[4., 4., 4., 4., 4.],\n",
       "         [4., 4., 4., 4., 4.],\n",
       "         [4., 4., 4., 4., 4.]]),\n",
       "  array([[3., 3., 3., 3.],\n",
       "         [3., 3., 3., 3.],\n",
       "         [3., 3., 3., 3.]]),\n",
       "  array([[3., 3., 3., 3.],\n",
       "         [3., 3., 3., 3.],\n",
       "         [3., 3., 3., 3.]]),\n",
       "  array([[4., 4., 4.],\n",
       "         [4., 4., 4.],\n",
       "         [4., 4., 4.]]),\n",
       "  array([[2.]])])"
      ]
     },
     "execution_count": 3,
     "metadata": {},
     "output_type": "execute_result"
    }
   ],
   "source": [
    "N, M = map(int, input().split())\n",
    "\n",
    "A = get_matrix(N, M, 0)\n",
    "\n",
    "k = int(input())\n",
    "Bs = []\n",
    "B_used = []\n",
    "for i in range(k):\n",
    "    n, m, w = map(int, input().split())\n",
    "    B = get_matrix(n, m, w)\n",
    "    Bs.append(B)\n",
    "    B_used.append(False)\n",
    "Bs.sort(key=lambda x: x.shape[1], reverse=True)\n",
    "\n",
    "A, Bs"
   ]
  },
  {
   "cell_type": "code",
   "execution_count": 5,
   "metadata": {},
   "outputs": [],
   "source": [
    "def can_insert_submatrix(B, r, c):\n",
    "    Ar, Ac = A.shape\n",
    "    Br, Bc = B.shape\n",
    "    if r + Br > Ar or c + Bc > Ac:\n",
    "        return False\n",
    "    return np.sum(A[r:r+Br, c:c+Bc]) == 0"
   ]
  },
  {
   "cell_type": "code",
   "execution_count": 6,
   "metadata": {},
   "outputs": [],
   "source": [
    "def insert_submatrix(B, r, c, fill_zeros = False):\n",
    "    Br, Bc = B.shape\n",
    "    A[r:r+Br, c:c+Bc] = 0 if fill_zeros else B"
   ]
  },
  {
   "cell_type": "code",
   "execution_count": 7,
   "metadata": {},
   "outputs": [],
   "source": [
    "def get_unused_B_indices():\n",
    "    return [i for i in range(k) if not B_used[i]]"
   ]
  },
  {
   "cell_type": "code",
   "execution_count": 8,
   "metadata": {},
   "outputs": [],
   "source": [
    "def calc_A_max():\n",
    "    global A, A_max\n",
    "    \n",
    "    B_indices = get_unused_B_indices()\n",
    "    if len(B_indices) == 0:\n",
    "        return\n",
    "    for B_i in B_indices:\n",
    "        B_used[B_i] = True\n",
    "        for i in range(N):\n",
    "            for j in range(M):\n",
    "                if can_insert_submatrix(Bs[B_i], i, j):\n",
    "                    insert_submatrix(Bs[B_i], i, j)\n",
    "                    calc_A_max()\n",
    "                    if np.sum(A) > np.sum(A_max):\n",
    "                        A_max = A.copy()\n",
    "                    insert_submatrix(Bs[B_i], i, j, True)\n",
    "        B_used[B_i] = False"
   ]
  },
  {
   "cell_type": "code",
   "execution_count": 9,
   "metadata": {},
   "outputs": [],
   "source": [
    "A_max = A.copy()\n",
    "calc_A_max()"
   ]
  },
  {
   "cell_type": "code",
   "execution_count": 10,
   "metadata": {},
   "outputs": [
    {
     "data": {
      "text/plain": [
       "array([[4., 4., 4., 4., 4.],\n",
       "       [4., 4., 4., 4., 4.],\n",
       "       [4., 4., 4., 4., 4.],\n",
       "       [3., 3., 3., 3., 2.],\n",
       "       [3., 3., 3., 3., 0.],\n",
       "       [3., 3., 3., 3., 0.],\n",
       "       [0., 0., 0., 0., 0.],\n",
       "       [0., 0., 0., 0., 0.]])"
      ]
     },
     "execution_count": 10,
     "metadata": {},
     "output_type": "execute_result"
    }
   ],
   "source": [
    "A_max"
   ]
  },
  {
   "cell_type": "markdown",
   "metadata": {},
   "source": [
    "Максимум среди минимумов по столбцам"
   ]
  },
  {
   "cell_type": "code",
   "execution_count": 27,
   "metadata": {},
   "outputs": [
    {
     "name": "stdout",
     "output_type": "stream",
     "text": [
      "Минимумы по столбцам:  [0. 0. 0. 0. 0.] \n",
      "Номера строк минимумов:  [6 6 6 6 4]\n"
     ]
    }
   ],
   "source": [
    "min_column = np.min(A_max, axis=0)\n",
    "ind_row = np.argmin(A_max, axis=0)\n",
    "print (\"Минимумы по столбцам: \",min_column,\"\\nНомера строк минимумов: \", ind_row)"
   ]
  },
  {
   "cell_type": "code",
   "execution_count": 28,
   "metadata": {},
   "outputs": [
    {
     "name": "stdout",
     "output_type": "stream",
     "text": [
      "Максимум среди минимумов по столбцам:  0.0 \n",
      "Координаты: ( 6 ; 0 )\n"
     ]
    }
   ],
   "source": [
    "max_min_column = max(min_column)\n",
    "ind_column = np.argmax(max_min_column)\n",
    "print(\"Максимум среди минимумов по столбцам: \", max_min_column,\"\\nКоординаты: (\",ind_row[ind_column],\";\",ind_column,\")\")"
   ]
  },
  {
   "cell_type": "markdown",
   "metadata": {},
   "source": [
    "Максимум среди минимумов по строкам"
   ]
  },
  {
   "cell_type": "code",
   "execution_count": 29,
   "metadata": {},
   "outputs": [
    {
     "name": "stdout",
     "output_type": "stream",
     "text": [
      "Минимумы по строкам:  [4. 4. 4. 2. 0. 0. 0. 0.] \n",
      "Номера столбцов минимумов:  [0 0 0 4 4 4 0 0]\n"
     ]
    }
   ],
   "source": [
    "min_row = np.min(A_max, axis=1)\n",
    "ind_column = np.argmin(A_max, axis=1)\n",
    "print (\"Минимумы по строкам: \",min_row,\"\\nНомера столбцов минимумов: \", ind_column)"
   ]
  },
  {
   "cell_type": "code",
   "execution_count": 30,
   "metadata": {},
   "outputs": [
    {
     "name": "stdout",
     "output_type": "stream",
     "text": [
      "Максимум среди минимумов по строкам:  4.0 \n",
      "Координаты: ( 0 ; 0 )\n"
     ]
    }
   ],
   "source": [
    "max_min_row = max(min_row)\n",
    "ind_row = np.argmax(max_min_row)\n",
    "print(\"Максимум среди минимумов по строкам: \", max_min_row,\"\\nКоординаты: (\",ind_row,\";\",ind_column[ind_row],\")\")"
   ]
  }
 ],
 "metadata": {
  "kernelspec": {
   "display_name": "Python 3",
   "language": "python",
   "name": "python3"
  },
  "language_info": {
   "codemirror_mode": {
    "name": "ipython",
    "version": 3
   },
   "file_extension": ".py",
   "mimetype": "text/x-python",
   "name": "python",
   "nbconvert_exporter": "python",
   "pygments_lexer": "ipython3",
   "version": "3.8.5"
  }
 },
 "nbformat": 4,
 "nbformat_minor": 4
}
